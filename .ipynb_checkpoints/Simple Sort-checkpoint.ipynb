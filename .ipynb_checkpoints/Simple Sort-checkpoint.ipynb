{
 "cells": [
  {
   "cell_type": "code",
   "execution_count": 30,
   "metadata": {
    "collapsed": true
   },
   "outputs": [],
   "source": [
    "# Simple algorithm to sort a list into either\n",
    "# ascending or descending order\n",
    "#############################################\n",
    "\n",
    "import numpy as np\n",
    "import sys as sys\n",
    "import time as time"
   ]
  },
  {
   "cell_type": "code",
   "execution_count": 50,
   "metadata": {
    "collapsed": false
   },
   "outputs": [],
   "source": [
    "def Simple_Sort(data, order = [\"ascending\", \"descending\"]):\n",
    "    \n",
    "    # Checks for order parameter\n",
    "    \n",
    "    if  not (order == \"ascending\" or order == \"descending\"):\n",
    "        sys.exit(\"Order not chosen.\")\n",
    "    \n",
    "    # Sorts the list in descending order\n",
    "    \n",
    "    # Time taken for the list be sorted is\n",
    "    # computed\n",
    "    \n",
    "    if order == \"descending\":\n",
    "    \n",
    "        start = time.time()\n",
    "    \n",
    "        for i in range(0, len(data)):\n",
    "            for j in range(0, len(data)):\n",
    "                if data[i] > data[j]:\n",
    "                    temp = data[i]\n",
    "                    data[i] = data[j]\n",
    "                    data[j] = temp\n",
    "                else:\n",
    "                    pass\n",
    "                \n",
    "        time_taken = end - start\n",
    "        \n",
    "        print(\"Sorted list:\", data, \"\\nSorting time: \", round(time_taken, 4), \"s\", sep = \"\")\n",
    "        \n",
    "    # Sorts the list in ascending order    \n",
    "\n",
    "    elif order == \"ascending\":\n",
    "        \n",
    "        start = time.time()\n",
    "        \n",
    "        for i in range(0, len(data)):\n",
    "            for j in range(0, len(data)):\n",
    "                if data[i] < data[j]:\n",
    "                    temp = data[i]\n",
    "                    data[i] = data[j]\n",
    "                    data[j] = temp\n",
    "                else:\n",
    "                    pass\n",
    "        \n",
    "        end = time.time()\n",
    "        \n",
    "        time_taken = end - start\n",
    "        \n",
    "        print(\"Sorted list:\", data, \"\\nSorting time: \", round(time_taken, 4), \"s\", sep = \"\")\n"
   ]
  }
 ],
 "metadata": {
  "anaconda-cloud": {},
  "kernelspec": {
   "display_name": "Python [conda root]",
   "language": "python",
   "name": "conda-root-py"
  },
  "language_info": {
   "codemirror_mode": {
    "name": "ipython",
    "version": 3
   },
   "file_extension": ".py",
   "mimetype": "text/x-python",
   "name": "python",
   "nbconvert_exporter": "python",
   "pygments_lexer": "ipython3",
   "version": "3.5.2"
  }
 },
 "nbformat": 4,
 "nbformat_minor": 1
}
